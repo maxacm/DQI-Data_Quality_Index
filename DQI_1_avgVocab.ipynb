{
  "nbformat": 4,
  "nbformat_minor": 0,
  "metadata": {
    "colab": {
      "provenance": []
    },
    "kernelspec": {
      "name": "python3",
      "display_name": "Python 3"
    },
    "language_info": {
      "name": "python"
    },
    "widgets": {
      "application/vnd.jupyter.widget-state+json": {
        "dde92a72984b4660859fc7cd5cc207f5": {
          "model_module": "@jupyter-widgets/controls",
          "model_name": "HBoxModel",
          "model_module_version": "1.5.0",
          "state": {
            "_dom_classes": [],
            "_model_module": "@jupyter-widgets/controls",
            "_model_module_version": "1.5.0",
            "_model_name": "HBoxModel",
            "_view_count": null,
            "_view_module": "@jupyter-widgets/controls",
            "_view_module_version": "1.5.0",
            "_view_name": "HBoxView",
            "box_style": "",
            "children": [
              "IPY_MODEL_bbe108a4a2df4137836e9488c544315a",
              "IPY_MODEL_09e12a91c4d34707aa81f6ae7e41cf90",
              "IPY_MODEL_baa0b7c54aa64841aabfe5a74573b21f"
            ],
            "layout": "IPY_MODEL_235681d812b549958badf57703555008"
          }
        },
        "bbe108a4a2df4137836e9488c544315a": {
          "model_module": "@jupyter-widgets/controls",
          "model_name": "HTMLModel",
          "model_module_version": "1.5.0",
          "state": {
            "_dom_classes": [],
            "_model_module": "@jupyter-widgets/controls",
            "_model_module_version": "1.5.0",
            "_model_name": "HTMLModel",
            "_view_count": null,
            "_view_module": "@jupyter-widgets/controls",
            "_view_module_version": "1.5.0",
            "_view_name": "HTMLView",
            "description": "",
            "description_tooltip": null,
            "layout": "IPY_MODEL_7ec7516bf73741cfa16a785cee9af341",
            "placeholder": "​",
            "style": "IPY_MODEL_6f14d81824b94fbead64b1577cddd824",
            "value": "100%"
          }
        },
        "09e12a91c4d34707aa81f6ae7e41cf90": {
          "model_module": "@jupyter-widgets/controls",
          "model_name": "FloatProgressModel",
          "model_module_version": "1.5.0",
          "state": {
            "_dom_classes": [],
            "_model_module": "@jupyter-widgets/controls",
            "_model_module_version": "1.5.0",
            "_model_name": "FloatProgressModel",
            "_view_count": null,
            "_view_module": "@jupyter-widgets/controls",
            "_view_module_version": "1.5.0",
            "_view_name": "ProgressView",
            "bar_style": "success",
            "description": "",
            "description_tooltip": null,
            "layout": "IPY_MODEL_ae4a39f65d5d4821805fc0947bfe95dd",
            "max": 86,
            "min": 0,
            "orientation": "horizontal",
            "style": "IPY_MODEL_a84c34e29e52478a90d813aadebc9761",
            "value": 86
          }
        },
        "baa0b7c54aa64841aabfe5a74573b21f": {
          "model_module": "@jupyter-widgets/controls",
          "model_name": "HTMLModel",
          "model_module_version": "1.5.0",
          "state": {
            "_dom_classes": [],
            "_model_module": "@jupyter-widgets/controls",
            "_model_module_version": "1.5.0",
            "_model_name": "HTMLModel",
            "_view_count": null,
            "_view_module": "@jupyter-widgets/controls",
            "_view_module_version": "1.5.0",
            "_view_name": "HTMLView",
            "description": "",
            "description_tooltip": null,
            "layout": "IPY_MODEL_89ae65ba41f24f14bb6348887af3f40e",
            "placeholder": "​",
            "style": "IPY_MODEL_1db3d0147673450fbc63003f0bcafd63",
            "value": " 86/86 [00:00&lt;00:00, 1053.62it/s]"
          }
        },
        "235681d812b549958badf57703555008": {
          "model_module": "@jupyter-widgets/base",
          "model_name": "LayoutModel",
          "model_module_version": "1.2.0",
          "state": {
            "_model_module": "@jupyter-widgets/base",
            "_model_module_version": "1.2.0",
            "_model_name": "LayoutModel",
            "_view_count": null,
            "_view_module": "@jupyter-widgets/base",
            "_view_module_version": "1.2.0",
            "_view_name": "LayoutView",
            "align_content": null,
            "align_items": null,
            "align_self": null,
            "border": null,
            "bottom": null,
            "display": null,
            "flex": null,
            "flex_flow": null,
            "grid_area": null,
            "grid_auto_columns": null,
            "grid_auto_flow": null,
            "grid_auto_rows": null,
            "grid_column": null,
            "grid_gap": null,
            "grid_row": null,
            "grid_template_areas": null,
            "grid_template_columns": null,
            "grid_template_rows": null,
            "height": null,
            "justify_content": null,
            "justify_items": null,
            "left": null,
            "margin": null,
            "max_height": null,
            "max_width": null,
            "min_height": null,
            "min_width": null,
            "object_fit": null,
            "object_position": null,
            "order": null,
            "overflow": null,
            "overflow_x": null,
            "overflow_y": null,
            "padding": null,
            "right": null,
            "top": null,
            "visibility": null,
            "width": null
          }
        },
        "7ec7516bf73741cfa16a785cee9af341": {
          "model_module": "@jupyter-widgets/base",
          "model_name": "LayoutModel",
          "model_module_version": "1.2.0",
          "state": {
            "_model_module": "@jupyter-widgets/base",
            "_model_module_version": "1.2.0",
            "_model_name": "LayoutModel",
            "_view_count": null,
            "_view_module": "@jupyter-widgets/base",
            "_view_module_version": "1.2.0",
            "_view_name": "LayoutView",
            "align_content": null,
            "align_items": null,
            "align_self": null,
            "border": null,
            "bottom": null,
            "display": null,
            "flex": null,
            "flex_flow": null,
            "grid_area": null,
            "grid_auto_columns": null,
            "grid_auto_flow": null,
            "grid_auto_rows": null,
            "grid_column": null,
            "grid_gap": null,
            "grid_row": null,
            "grid_template_areas": null,
            "grid_template_columns": null,
            "grid_template_rows": null,
            "height": null,
            "justify_content": null,
            "justify_items": null,
            "left": null,
            "margin": null,
            "max_height": null,
            "max_width": null,
            "min_height": null,
            "min_width": null,
            "object_fit": null,
            "object_position": null,
            "order": null,
            "overflow": null,
            "overflow_x": null,
            "overflow_y": null,
            "padding": null,
            "right": null,
            "top": null,
            "visibility": null,
            "width": null
          }
        },
        "6f14d81824b94fbead64b1577cddd824": {
          "model_module": "@jupyter-widgets/controls",
          "model_name": "DescriptionStyleModel",
          "model_module_version": "1.5.0",
          "state": {
            "_model_module": "@jupyter-widgets/controls",
            "_model_module_version": "1.5.0",
            "_model_name": "DescriptionStyleModel",
            "_view_count": null,
            "_view_module": "@jupyter-widgets/base",
            "_view_module_version": "1.2.0",
            "_view_name": "StyleView",
            "description_width": ""
          }
        },
        "ae4a39f65d5d4821805fc0947bfe95dd": {
          "model_module": "@jupyter-widgets/base",
          "model_name": "LayoutModel",
          "model_module_version": "1.2.0",
          "state": {
            "_model_module": "@jupyter-widgets/base",
            "_model_module_version": "1.2.0",
            "_model_name": "LayoutModel",
            "_view_count": null,
            "_view_module": "@jupyter-widgets/base",
            "_view_module_version": "1.2.0",
            "_view_name": "LayoutView",
            "align_content": null,
            "align_items": null,
            "align_self": null,
            "border": null,
            "bottom": null,
            "display": null,
            "flex": null,
            "flex_flow": null,
            "grid_area": null,
            "grid_auto_columns": null,
            "grid_auto_flow": null,
            "grid_auto_rows": null,
            "grid_column": null,
            "grid_gap": null,
            "grid_row": null,
            "grid_template_areas": null,
            "grid_template_columns": null,
            "grid_template_rows": null,
            "height": null,
            "justify_content": null,
            "justify_items": null,
            "left": null,
            "margin": null,
            "max_height": null,
            "max_width": null,
            "min_height": null,
            "min_width": null,
            "object_fit": null,
            "object_position": null,
            "order": null,
            "overflow": null,
            "overflow_x": null,
            "overflow_y": null,
            "padding": null,
            "right": null,
            "top": null,
            "visibility": null,
            "width": null
          }
        },
        "a84c34e29e52478a90d813aadebc9761": {
          "model_module": "@jupyter-widgets/controls",
          "model_name": "ProgressStyleModel",
          "model_module_version": "1.5.0",
          "state": {
            "_model_module": "@jupyter-widgets/controls",
            "_model_module_version": "1.5.0",
            "_model_name": "ProgressStyleModel",
            "_view_count": null,
            "_view_module": "@jupyter-widgets/base",
            "_view_module_version": "1.2.0",
            "_view_name": "StyleView",
            "bar_color": null,
            "description_width": ""
          }
        },
        "89ae65ba41f24f14bb6348887af3f40e": {
          "model_module": "@jupyter-widgets/base",
          "model_name": "LayoutModel",
          "model_module_version": "1.2.0",
          "state": {
            "_model_module": "@jupyter-widgets/base",
            "_model_module_version": "1.2.0",
            "_model_name": "LayoutModel",
            "_view_count": null,
            "_view_module": "@jupyter-widgets/base",
            "_view_module_version": "1.2.0",
            "_view_name": "LayoutView",
            "align_content": null,
            "align_items": null,
            "align_self": null,
            "border": null,
            "bottom": null,
            "display": null,
            "flex": null,
            "flex_flow": null,
            "grid_area": null,
            "grid_auto_columns": null,
            "grid_auto_flow": null,
            "grid_auto_rows": null,
            "grid_column": null,
            "grid_gap": null,
            "grid_row": null,
            "grid_template_areas": null,
            "grid_template_columns": null,
            "grid_template_rows": null,
            "height": null,
            "justify_content": null,
            "justify_items": null,
            "left": null,
            "margin": null,
            "max_height": null,
            "max_width": null,
            "min_height": null,
            "min_width": null,
            "object_fit": null,
            "object_position": null,
            "order": null,
            "overflow": null,
            "overflow_x": null,
            "overflow_y": null,
            "padding": null,
            "right": null,
            "top": null,
            "visibility": null,
            "width": null
          }
        },
        "1db3d0147673450fbc63003f0bcafd63": {
          "model_module": "@jupyter-widgets/controls",
          "model_name": "DescriptionStyleModel",
          "model_module_version": "1.5.0",
          "state": {
            "_model_module": "@jupyter-widgets/controls",
            "_model_module_version": "1.5.0",
            "_model_name": "DescriptionStyleModel",
            "_view_count": null,
            "_view_module": "@jupyter-widgets/base",
            "_view_module_version": "1.2.0",
            "_view_name": "StyleView",
            "description_width": ""
          }
        }
      }
    }
  },
  "cells": [
    {
      "cell_type": "markdown",
      "source": [
        "# Mishra Data Quality Index 1 (1-2-3.ipynb)\n",
        "Zois Boukouvalas, Max Calzada \n",
        "December 1, 2022 (Latest Update)"
      ],
      "metadata": {
        "id": "Ph3-XflFdntJ"
      }
    },
    {
      "cell_type": "markdown",
      "source": [
        "## What does DQI c1 do?\n",
        "\n",
        "DQI c1 measures the following:\n",
        "\n",
        "*   unique words per total number of data samples in the dataset\n",
        "*   relative amount of sentences within appropriate legnth (3-30 words)*\n",
        "*   stantard deviation of sentence lengths\n",
        "\n",
        "DQI c1 assigns a higher score to \n",
        "\n",
        "*   higher number of nique words\n",
        "*   higher relative amount of sentences within appropriate length"
      ],
      "metadata": {
        "id": "E9bh5m1f2k-u"
      }
    },
    {
      "cell_type": "markdown",
      "source": [
        "'docs_for_lime_BERT_&_LIME_2.csv' must be manually inserted into the content folder each session."
      ],
      "metadata": {
        "id": "r1EfAcPuEQ6S"
      }
    },
    {
      "cell_type": "code",
      "execution_count": 1,
      "metadata": {
        "colab": {
          "base_uri": "https://localhost:8080/"
        },
        "id": "eAsVQp2Bdl8N",
        "outputId": "f7564f4e-5a33-4632-bba8-db65ddef10e6"
      },
      "outputs": [
        {
          "output_type": "stream",
          "name": "stderr",
          "text": [
            "[nltk_data] Downloading package averaged_perceptron_tagger to\n",
            "[nltk_data]     /root/nltk_data...\n",
            "[nltk_data]   Unzipping taggers/averaged_perceptron_tagger.zip.\n"
          ]
        }
      ],
      "source": [
        "# Max: This code is unedited.\n",
        "\n",
        "import pandas as pd # used in makind and editing the words data frame\n",
        "import numpy as np \n",
        "#import json\n",
        "#import csv\n",
        "\n",
        "\n",
        "#import matplotlib.pyplot as plt # unnecessary\n",
        "#import seaborn as sns # unnecessary\n",
        "\n",
        "from tqdm import tqdm_notebook as tqdm # Progress Bar\n",
        "\n",
        "from nltk.corpus import stopwords # removes words like “the”, “a”, “an”, and “in” # redundant?\n",
        "from nltk.tokenize import word_tokenize # separates words into separate strings\n",
        "from nltk.tokenize import sent_tokenize # separates sentences into separate strings\n",
        "from nltk.stem import WordNetLemmatizer # identifies root word (\"running\" and \"ran\" are forms of \"run\")\n",
        "import nltk # text reading\n",
        "nltk.download('averaged_perceptron_tagger') # tags parts of speech (preposition, determiner, ...)\n",
        "\n",
        "import spacy\n",
        "#import math # unnecessary\n",
        "\n",
        "#import string # unnecessary\n",
        "#import sys # unnecessary\n",
        "#import random # unnecessary\n",
        "\n",
        "from collections import Counter # counts words, stores them in dictionary\n",
        "from itertools import chain # Groups all the iterables together and produces a single iterable as output\n",
        "\n",
        "#stop_words = set(stopwords.words('english')) # unnecessary\n",
        "#lemmatizer = WordNetLemmatizer() # unnecessary"
      ]
    },
    {
      "cell_type": "code",
      "source": [
        "# Max: I added this code to Mishra's code.\n",
        "\n",
        "#import nltk\n",
        "nltk.download('stopwords') # Is this redundant?\n",
        "\n",
        "from spacy.lang.en.examples import sentences\n",
        "\n",
        "#nlp = spacy.load(\"en_core_web_sm\") # nlp = spacy.load(\"en_trf_bertbaseuncased_lg\")\n",
        "\n",
        "# Code based off of:\n",
        "# https://stackoverflow.com/questions/56927602/unable-to-load-the-spacy-model-en-core-web-lg-on-google-colab # Max: Should I delete this line?\n",
        "import spacy.cli\n",
        "spacy.cli.download(\"en_core_web_lg\")\n",
        "nlp = spacy.load(\"en_core_web_lg\")\n",
        "\n",
        "nltk.download('wordnet')\n",
        "\n",
        "nltk.download('omw-1.4')"
      ],
      "metadata": {
        "colab": {
          "base_uri": "https://localhost:8080/"
        },
        "id": "M_7qz07Ud6vh",
        "outputId": "b4748fa4-e87c-4456-f338-933aceff22b1"
      },
      "execution_count": 2,
      "outputs": [
        {
          "output_type": "stream",
          "name": "stderr",
          "text": [
            "[nltk_data] Downloading package stopwords to /root/nltk_data...\n",
            "[nltk_data]   Unzipping corpora/stopwords.zip.\n"
          ]
        },
        {
          "output_type": "stream",
          "name": "stdout",
          "text": [
            "\u001b[38;5;2m✔ Download and installation successful\u001b[0m\n",
            "You can now load the package via spacy.load('en_core_web_lg')\n"
          ]
        },
        {
          "output_type": "stream",
          "name": "stderr",
          "text": [
            "[nltk_data] Downloading package wordnet to /root/nltk_data...\n",
            "[nltk_data] Downloading package omw-1.4 to /root/nltk_data...\n"
          ]
        },
        {
          "output_type": "execute_result",
          "data": {
            "text/plain": [
              "True"
            ]
          },
          "metadata": {},
          "execution_count": 2
        }
      ]
    },
    {
      "cell_type": "code",
      "source": [
        "# Max: This code is unedited.\n",
        "\n",
        "stop_words = set(stopwords.words('english')) # list of words like \"a, but, an, ...\"\n",
        "lemmatizer = WordNetLemmatizer() # identifies word root"
      ],
      "metadata": {
        "id": "aojyfY6aeHn9"
      },
      "execution_count": 3,
      "outputs": []
    },
    {
      "cell_type": "code",
      "source": [
        "# Max: This code is edited and inserted.\n",
        "\n",
        "df_sentences = pd.read_csv('docs_for_lime_BERT_&_LIME_2.csv')"
      ],
      "metadata": {
        "id": "tOPFvs6CekaG"
      },
      "execution_count": 4,
      "outputs": []
    },
    {
      "cell_type": "code",
      "source": [
        "# Max: This code is edited.\n",
        "\n",
        "words=pd.DataFrame() # creates a data frame\n",
        "frames=[df_sentences['documents']]\n",
        "words['full'] = pd.concat(frames) # creates new column in the `words` dataframe\n",
        "words.reset_index(inplace = True) # resets index\n",
        "words['casewords'] = words['full'].str.lower() # creates new column, based off pre-extisting column\n",
        "words['wsw'] = words['casewords'].apply(lambda x: ' '.join([word for word in x.split() if word not in (stop_words)])) # joins words into a string\n",
        "words['nopunc'] = words['wsw'].str.replace(\"'\", \"\") # new column, also removes punctiations\n",
        "words['nopunc'] = words['nopunc'].str.replace(\".\", \"\") \n",
        "words['nopunc'] = words['nopunc'].str.replace(\",\", \"\")\n",
        "w_tokenizer = nltk.tokenize.WhitespaceTokenizer() # extracts word or \"tokens\" and detaches whitespace\n",
        "lemmatizer = nltk.stem.WordNetLemmatizer() # provides a synonym for an input word\n",
        "def lemmatize_text(text): # finds roots of words in text\n",
        "    return [lemmatizer.lemmatize(w) for w in w_tokenizer.tokenize(text)] \n",
        "words['text_lemmatized'] = words.nopunc.apply(lemmatize_text) # makes new column, with root word\n",
        "words['final']=\"NaN\" # \"Not a Number\", numeric data type, value is undefined or unrepresentable \n",
        "def final(x):\n",
        "    makeitastring = ' '.join(map(str, x)) # applies str function to each x, each x separated by ' '\n",
        "    makeitastring=makeitastring.replace(\",\",\"\") # new column, also removes punctiations\n",
        "    makeitastring=makeitastring.replace(\"'\",\"\")\n",
        "    makeitastring=makeitastring.replace(\"[\",\"\")\n",
        "    makeitastring=makeitastring.replace(\"]\",\"\")\n",
        "    return makeitastring\n",
        "for i in tqdm(range(len(words))): # range() creates a sequence. range(4) = [0,1,2,3], loading bar\n",
        "    column=['text_lemmatized'] #\n",
        "    row=[i]\n",
        "    words.loc[i,'final']=final(words.loc[i,'text_lemmatized']) #.loc[] locates a group of rows and columns by a label\n",
        "words['fullnopunc'] = words['full'].str.replace(\"'\", \"\") # removes punctiations\n",
        "words['fullnopunc'] = words['fullnopunc'].str.replace(\".\", \"\")\n",
        "words['fullnopunc'] = words['fullnopunc'].str.replace(\",\", \"\")\n",
        "words['label']='NaN'"
      ],
      "metadata": {
        "colab": {
          "base_uri": "https://localhost:8080/",
          "height": 191,
          "referenced_widgets": [
            "dde92a72984b4660859fc7cd5cc207f5",
            "bbe108a4a2df4137836e9488c544315a",
            "09e12a91c4d34707aa81f6ae7e41cf90",
            "baa0b7c54aa64841aabfe5a74573b21f",
            "235681d812b549958badf57703555008",
            "7ec7516bf73741cfa16a785cee9af341",
            "6f14d81824b94fbead64b1577cddd824",
            "ae4a39f65d5d4821805fc0947bfe95dd",
            "a84c34e29e52478a90d813aadebc9761",
            "89ae65ba41f24f14bb6348887af3f40e",
            "1db3d0147673450fbc63003f0bcafd63"
          ]
        },
        "id": "8P0uuz1XevrV",
        "outputId": "181d0daf-0c01-4271-eaba-ab3804f95558"
      },
      "execution_count": 5,
      "outputs": [
        {
          "output_type": "stream",
          "name": "stderr",
          "text": [
            "<ipython-input-5-f6ff744740f6>:10: FutureWarning: The default value of regex will change from True to False in a future version. In addition, single character regular expressions will *not* be treated as literal strings when regex=True.\n",
            "  words['nopunc'] = words['nopunc'].str.replace(\".\", \"\")\n",
            "<ipython-input-5-f6ff744740f6>:25: TqdmDeprecationWarning: This function will be removed in tqdm==5.0.0\n",
            "Please use `tqdm.notebook.tqdm` instead of `tqdm.tqdm_notebook`\n",
            "  for i in tqdm(range(len(words))): # range() creates a sequence. range(4) = [0,1,2,3], loading bar\n"
          ]
        },
        {
          "output_type": "display_data",
          "data": {
            "text/plain": [
              "  0%|          | 0/86 [00:00<?, ?it/s]"
            ],
            "application/vnd.jupyter.widget-view+json": {
              "version_major": 2,
              "version_minor": 0,
              "model_id": "dde92a72984b4660859fc7cd5cc207f5"
            }
          },
          "metadata": {}
        },
        {
          "output_type": "stream",
          "name": "stderr",
          "text": [
            "<ipython-input-5-f6ff744740f6>:30: FutureWarning: The default value of regex will change from True to False in a future version. In addition, single character regular expressions will *not* be treated as literal strings when regex=True.\n",
            "  words['fullnopunc'] = words['fullnopunc'].str.replace(\".\", \"\")\n"
          ]
        }
      ]
    },
    {
      "cell_type": "code",
      "source": [
        "# `print(words)` shows what the words data frame looks like.\n",
        "\n",
        "# print(words)"
      ],
      "metadata": {
        "id": "FXWY7Ioo1RZF"
      },
      "execution_count": null,
      "outputs": []
    },
    {
      "cell_type": "code",
      "source": [
        "# Max: This code is unedited.\n",
        "\n",
        "magwords=words.final.str.split(expand=True).stack().value_counts() # list words and its frequency\n",
        "t1g=magwords.size/len(df_sentences)"
      ],
      "metadata": {
        "id": "hS1pc0lBgu3R"
      },
      "execution_count": 6,
      "outputs": []
    },
    {
      "cell_type": "code",
      "source": [
        "# Max: This code is unedited.\n",
        "\n",
        "g=[]\n",
        "for i in range(len(words)):\n",
        "    x=words.iloc[i]['fullnopunc']\n",
        "    g.append(len(x.split()))\n",
        "gstd=pd.Series(g).std() # standard deviation in word length"
      ],
      "metadata": {
        "id": "ySRo8r1BhP22"
      },
      "execution_count": 7,
      "outputs": []
    },
    {
      "cell_type": "code",
      "source": [
        "# Max: This code is unedited.\n",
        "\n",
        "nrg=len(words)\n",
        "drg=0\n",
        "for i in range(len(g)): # sign function\n",
        "    xg=g[i]\n",
        "    xg=(xg-3)*(30-xg) # Mishra set 3 and 30 as his lower and upper legnth in word thresholds\n",
        "    if(xg>0):\n",
        "        drg=drg+1\n",
        "    else:\n",
        "        drg=drg-1"
      ],
      "metadata": {
        "id": "a4pMN16ShbjZ"
      },
      "execution_count": 8,
      "outputs": []
    },
    {
      "cell_type": "code",
      "source": [
        "# Max: This code is unedited.\n",
        "\n",
        "print(t1g) # T1\n",
        "print(gstd) # T2\n",
        "print(nrg)\n",
        "print(drg)\n",
        "t3g=drg/nrg\n",
        "print(t3g) # T3"
      ],
      "metadata": {
        "colab": {
          "base_uri": "https://localhost:8080/"
        },
        "id": "_Uze0Q7FheWB",
        "outputId": "3bdd1608-7a17-4558-9c43-2eacba90535f"
      },
      "execution_count": 9,
      "outputs": [
        {
          "output_type": "stream",
          "name": "stdout",
          "text": [
            "32.23255813953488\n",
            "64.72230167252498\n",
            "86\n",
            "-84\n",
            "-0.9767441860465116\n"
          ]
        }
      ]
    },
    {
      "cell_type": "code",
      "source": [
        "dqic1g=t1g+(gstd*t3g)\n",
        "print(dqic1g) # DQI c1 value"
      ],
      "metadata": {
        "colab": {
          "base_uri": "https://localhost:8080/"
        },
        "id": "iWDXOM8d9o_m",
        "outputId": "e1244d19-360e-4d59-e243-0042a89d91b0"
      },
      "execution_count": 10,
      "outputs": [
        {
          "output_type": "stream",
          "name": "stdout",
          "text": [
            "-30.984573726652307\n"
          ]
        }
      ]
    },
    {
      "cell_type": "markdown",
      "source": [
        "Adapted DQI c1"
      ],
      "metadata": {
        "id": "Gt3N03mF-1BC"
      }
    },
    {
      "cell_type": "code",
      "source": [
        "print(t1g)"
      ],
      "metadata": {
        "colab": {
          "base_uri": "https://localhost:8080/"
        },
        "id": "QY1e-jcE-5fu",
        "outputId": "d2e907ed-0fb2-4911-bd79-b6f2a3d4ace2"
      },
      "execution_count": 11,
      "outputs": [
        {
          "output_type": "stream",
          "name": "stdout",
          "text": [
            "32.23255813953488\n"
          ]
        }
      ]
    },
    {
      "cell_type": "markdown",
      "source": [
        "## How should the DQI c1 results be interpreted?\n",
        "\n",
        "In his paper, Mishra provides a table to interpret DQI c1 and its components. He says that 7.6 is a \"good\" score and that 6.2 is a \"bad\" score, so should the -30.98 be interpreted?\n",
        "\n",
        "Mishra further states that component T1 of DQI c1 is \"good\" above 1.9. The data yielded a value pf 32.2, meaning the data have a robust amount of unique words.\n",
        "\n",
        "The bizarre -30.98 comes from the fact that Mishra tested his model on code where each obersation truly was only one sentence. For these data, each observation is actually composed of several sentences. This means that the standard variation of word length will vary greatly and that most sentences will far exceed Mishra's range of 3-30 words per sentence.\n",
        "\n",
        "DQI c1 still provides valuable information as it shows that the data have a large number of unique words (which is one relevant dimension of robustness."
      ],
      "metadata": {
        "id": "3zrhJYNu_c42"
      }
    }
  ]
}